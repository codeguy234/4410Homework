{
  "nbformat": 4,
  "nbformat_minor": 0,
  "metadata": {
    "colab": {
      "provenance": [],
      "authorship_tag": "ABX9TyNXiwRJUY9h7XOg3pv02Zw9",
      "include_colab_link": true
    },
    "kernelspec": {
      "name": "python3",
      "display_name": "Python 3"
    },
    "language_info": {
      "name": "python"
    }
  },
  "cells": [
    {
      "cell_type": "markdown",
      "metadata": {
        "id": "view-in-github",
        "colab_type": "text"
      },
      "source": [
        "<a href=\"https://colab.research.google.com/github/codeguy234/4410Homework/blob/main/HW6_v3.ipynb\" target=\"_parent\"><img src=\"https://colab.research.google.com/assets/colab-badge.svg\" alt=\"Open In Colab\"/></a>"
      ]
    },
    {
      "cell_type": "code",
      "execution_count": 17,
      "metadata": {
        "colab": {
          "base_uri": "https://localhost:8080/",
          "height": 975
        },
        "id": "Ks5w1jbCIdWZ",
        "outputId": "2496ab79-3c72-4907-a133-68b9e40e4cf8"
      },
      "outputs": [
        {
          "output_type": "stream",
          "name": "stdout",
          "text": [
            "1. K-Means Clustering on Dataset\n"
          ]
        },
        {
          "output_type": "display_data",
          "data": {
            "text/plain": [
              "<Figure size 640x480 with 1 Axes>"
            ],
            "image/png": "[encoded data removed]"
          },
          "metadata": {}
        },
        {
          "output_type": "stream",
          "name": "stdout",
          "text": [
            "\n",
            "Logistic Regression on MNIST\n",
            "Dataset shape: (10000, 784)\n",
            "Target shape: (10000,)\n",
            "Training set : (8000, 784)\n",
            "Testing set : (2000, 784)\n",
            "\n",
            "StandardScaler\n",
            "Logistic Regression Without PCA\n",
            "Training time: 11.25 seconds\n",
            "Accuracy score: 0.9005\n",
            "PCA with 0.95\n",
            "Original features: 784\n",
            "PCA components: 276\n",
            "variance ratio: 0.9501\n",
            "Training time: 7.90 seconds\n",
            "Accuracy score: 0.9040\n",
            "PCA Time Comparison\n",
            "without PCA: 11.25 seconds\n",
            "with PCA:    7.90 seconds\n",
            "Training:          1.42x faster with PCA\n",
            "\n",
            "Accuracy score without PCA: 0.9005\n",
            "Accuracy score with PCA:    0.9040\n",
            "Difference:  +0.0035\n",
            "\n",
            "Dimensionality reduction: 784 -> 276 features\n",
            "Reduction ratio: 64.8% fewer features\n"
          ]
        }
      ],
      "source": [
        "import numpy as np\n",
        "import pandas as pd\n",
        "import time\n",
        "import matplotlib.pyplot as plt\n",
        "from sklearn.datasets import load_iris, fetch_openml\n",
        "from sklearn.cluster import KMeans\n",
        "from sklearn.model_selection import train_test_split\n",
        "from sklearn.linear_model import LogisticRegression\n",
        "from sklearn.decomposition import PCA\n",
        "from sklearn.metrics import accuracy_score\n",
        "from sklearn.preprocessing import StandardScaler\n",
        "\n",
        "\n",
        "print(\"1. K-Means Clustering on Dataset\")\n",
        "# Load the iris dataset\n",
        "iris = load_iris()\n",
        "k_values = range(1, 11)\n",
        "wcss = []\n",
        "for k in k_values:\n",
        "    kmeans = KMeans(n_clusters=k)\n",
        "    kmeans.fit(iris.data)\n",
        "    wcss.append(kmeans.inertia_)\n",
        "\n",
        "# the WCSS & k values\n",
        "plt.plot(k_values, wcss, 'b-', linewidth=2)\n",
        "plt.xlabel('- Number of clusters -')\n",
        "plt.ylabel('WCSS')\n",
        "plt.title('Elbow method')\n",
        "plt.grid(True, alpha=0.3)\n",
        "plt.show()\n",
        "\n",
        "#2\n",
        "print(\"\\nLogistic Regression on MNIST\")\n",
        "\n",
        "mnist = fetch_openml('mnist_784')\n",
        "X, y = mnist.data, mnist.target\n",
        "\n",
        "X = X[:10000]\n",
        "y = y[:10000]\n",
        "\n",
        "print(f\"Dataset shape: {X.shape}\")\n",
        "print(f\"Target shape: {y.shape}\")\n",
        "\n",
        "# Split data\n",
        "X_train, X_test, y_train, y_test = train_test_split(X, y, test_size=0.2, random_state=42)\n",
        "print(f\"Training set : {X_train.shape}\")\n",
        "print(f\"Testing set : {X_test.shape}\")\n",
        "\n",
        "\n",
        "print(\"\\nStandardScaler\")\n",
        "scaler = StandardScaler()\n",
        "X_train_scaled = scaler.fit_transform(X_train)\n",
        "X_test_scaled = scaler.transform(X_test)\n",
        "\n",
        "#WITHOUT PCA\n",
        "print(\"Logistic Regression Without PCA\")\n",
        "start = time.time()\n",
        "logisticRegr = LogisticRegression(solver='lbfgs', max_iter=1000, random_state=42)\n",
        "logisticRegr.fit(X_train_scaled, y_train)\n",
        "train_time_no_pca = time.time() - start\n",
        "\n",
        "start = time.time()\n",
        "y_pred_no_pca = logisticRegr.predict(X_test_scaled)\n",
        "predict_time_no_pca = time.time() - start\n",
        "\n",
        "accuracy_no_pca = accuracy_score(y_test, y_pred_no_pca)\n",
        "\n",
        "print(f\"Training time: {train_time_no_pca:.2f} seconds\")\n",
        "print(f\"Accuracy score: {accuracy_no_pca:.4f}\")\n",
        "\n",
        "# PCA with 0.95\n",
        "print(\"PCA with 0.95\")\n",
        "pca = PCA(n_components=0.95, random_state=42)\n",
        "X_train_pca = pca.fit_transform(X_train_scaled)\n",
        "X_test_pca = pca.transform(X_test_scaled)\n",
        "\n",
        "print(f\"Original features: {X_train_scaled.shape[1]}\")\n",
        "print(f\"PCA components: {pca.n_components_}\")\n",
        "print(f\"variance ratio: {pca.explained_variance_ratio_.sum():.4f}\")\n",
        "\n",
        "start = time.time()\n",
        "logisticRegr_pca = LogisticRegression(solver='lbfgs', max_iter=1000, random_state=42)\n",
        "logisticRegr_pca.fit(X_train_pca, y_train)\n",
        "train_time_pca = time.time() - start\n",
        "\n",
        "start = time.time()\n",
        "y_pred_pca = logisticRegr_pca.predict(X_test_pca)\n",
        "predict_time_pca = time.time() - start\n",
        "\n",
        "accuracy_pca = accuracy_score(y_test, y_pred_pca)\n",
        "\n",
        "print(f\"Training time: {train_time_pca:.2f} seconds\")\n",
        "print(f\"Accuracy score: {accuracy_pca:.4f}\")\n",
        "\n",
        "print(\"PCA Time Comparison\")\n",
        "\n",
        "print(f\"without PCA: {train_time_no_pca:.2f} seconds\")\n",
        "print(f\"with PCA:    {train_time_pca:.2f} seconds\")\n",
        "print(f\"Training:          {train_time_no_pca/train_time_pca:.2f}x {'faster' if train_time_pca < train_time_no_pca else 'slower'} with PCA\")\n",
        "\n",
        "print(f\"\\nAccuracy score without PCA: {accuracy_no_pca:.4f}\")\n",
        "print(f\"Accuracy score with PCA:    {accuracy_pca:.4f}\")\n",
        "print(f\"Difference:  {accuracy_pca - accuracy_no_pca:+.4f}\")\n",
        "\n",
        "print(f\"\\nDimensionality reduction: {X_train_scaled.shape[1]} -> {pca.n_components_} features\")\n",
        "print(f\"Reduction ratio: {(1 - pca.n_components_/X_train_scaled.shape[1])*100:.1f}% fewer features\")"
      ]
    }
  ]
}